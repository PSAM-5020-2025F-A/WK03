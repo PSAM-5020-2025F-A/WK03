{
  "cells": [
    {
      "cell_type": "markdown",
      "metadata": {},
      "source": [
        "# From Week 02\n",
        "\n",
        "## Lists"
      ]
    },
    {
      "cell_type": "markdown",
      "metadata": {},
      "source": [
        "### Ranges\n",
        "\n",
        "<img src=\"./imgs/range.jpg\" width=\"500px\" />"
      ]
    },
    {
      "cell_type": "markdown",
      "metadata": {},
      "source": [
        "### List functions\n",
        "\n",
        "Members of each `list` object.\n",
        "\n",
        "<img src=\"./imgs/lists00.jpg\" width=\"500px\" />"
      ]
    },
    {
      "cell_type": "markdown",
      "metadata": {},
      "source": [
        "### Functions on lists\n",
        "\n",
        "These are functions that Python gives us to work on lists.\n",
        "\n",
        "There are functions for sorting, reversing and getting the length of a `list`:\n",
        "\n",
        "<img src=\"./imgs/lists01.jpg\" width=\"600px\" />"
      ]
    },
    {
      "cell_type": "markdown",
      "metadata": {},
      "source": [
        "### Slicing\n",
        "\n",
        "Python has a built-in mechanism for getting sub-sections of a list called *slicing*.\n",
        "\n",
        "Instead of a single index, we specify two values in the square bracket, separated by a `:`, to specify where our slice starts and ends:\n",
        "\n",
        "<img src=\"./imgs/slicing.jpg\" width=\"700px\" />\n",
        "\n",
        "One **VERY** important thing to remember is that the second index in the bracket is **NOT** included in the slice."
      ]
    },
    {
      "cell_type": "markdown",
      "metadata": {},
      "source": [
        "# Week 03\n",
        "\n",
        "## TODO: add cell highlight"
      ]
    },
    {
      "cell_type": "markdown",
      "metadata": {},
      "source": [
        "## Setup\n",
        "\n",
        "Let's import some helper functions and libraries"
      ]
    },
    {
      "cell_type": "code",
      "execution_count": null,
      "metadata": {},
      "outputs": [],
      "source": [
        "import random"
      ]
    },
    {
      "cell_type": "markdown",
      "metadata": {},
      "source": [
        "## Objects"
      ]
    },
    {
      "cell_type": "markdown",
      "metadata": {},
      "source": [
        "### Iterating over keys, values and items\n",
        "\n",
        "[Documentation](https://docs.python.org/3/tutorial/datastructures.html#looping-techniques)\n",
        "\n",
        "<img src=\"./imgs/objects.jpg\" width=\"500px\" />"
      ]
    },
    {
      "cell_type": "code",
      "execution_count": null,
      "metadata": {},
      "outputs": [],
      "source": [
        "# TODO use my_info.keys(), .values() and .items() to print contents of object"
      ]
    },
    {
      "cell_type": "markdown",
      "metadata": {},
      "source": [
        "## List of objects\n",
        "\n",
        "### Create a list of 10 objects with random heights, brooklyn zip codes and a random id between 100 and 999.\n",
        "\n",
        "```python\n",
        "my_data = [\n",
        "  {\"height\": [60, 70], \"zip\": [11200, 11250], \"id\": [100, 999]},\n",
        "  {\"height\": [60, 70], \"zip\": [11200, 11250], \"id\": [100, 999]},\n",
        "  {\"height\": [60, 70], \"zip\": [11200, 11250], \"id\": [100, 999]},\n",
        "  ...\n",
        "]\n",
        "```\n",
        "\n",
        "To do this, we can use a call to `range()` to create a counter, and then for each of the $10$ iterations we'll `append()` an object with three items, a `height` value between $60$ and $70$, a `zip` between $11200$ and $11250$ and an `id` between $100$ and $999$."
      ]
    },
    {
      "cell_type": "code",
      "execution_count": null,
      "metadata": {},
      "outputs": [],
      "source": [
        "# TODO: create list of random objects\n",
        "my_data = []\n",
        "\n",
        "my_data"
      ]
    },
    {
      "cell_type": "markdown",
      "metadata": {},
      "source": [
        "### Let's create a list of 3 random grades for each member of the list and another item with their computed average\n",
        "\n",
        "We have to iterate over the list of objects, and for each object create a list with $3$ random grades between $70$ and $100$, and add this list to the object with the key `grades`."
      ]
    },
    {
      "cell_type": "code",
      "execution_count": null,
      "metadata": {},
      "outputs": [],
      "source": [
        "# TODO: first, append grade list to objects"
      ]
    },
    {
      "cell_type": "markdown",
      "metadata": {},
      "source": [
        "### Average\n",
        "\n",
        "<img src=\"./imgs/average00.jpg\" width=\"500px\" />\n",
        "<br>\n",
        "<img src=\"./imgs/average01.jpg\" width=\"500px\" />"
      ]
    },
    {
      "cell_type": "markdown",
      "metadata": {},
      "source": [
        "Now we'll iterate over the list of objects/students, and for each student calculate the average value of their grades and store that with a new key `average`."
      ]
    },
    {
      "cell_type": "code",
      "execution_count": null,
      "metadata": {},
      "outputs": [],
      "source": [
        "# TODO: compute and store average of grades"
      ]
    },
    {
      "cell_type": "markdown",
      "metadata": {},
      "source": [
        "### Get highest and lowest average grades\n",
        "\n",
        "First, get all average grades on a separate list, then use `min()`/`max()`"
      ]
    },
    {
      "cell_type": "code",
      "execution_count": null,
      "metadata": {},
      "outputs": [],
      "source": [
        "grades = []\n",
        "for obj in my_data:\n",
        "  grades.append(obj[\"avg\"])\n",
        "\n",
        "min(grades), max(grades)"
      ]
    },
    {
      "cell_type": "markdown",
      "metadata": {},
      "source": [
        "### Sort objects by average grades\n",
        "\n",
        "We could first get all the average grades and then sort the new list:"
      ]
    },
    {
      "cell_type": "code",
      "execution_count": null,
      "metadata": {},
      "outputs": [],
      "source": [
        "grades = []\n",
        "for obj in my_data:\n",
        "  grades.append(obj[\"avg\"])\n",
        "\n",
        "by_grade = sorted(grades)\n",
        "\n",
        "print(\"original:\\n\", grades)\n",
        "print(\"sorted:\\n\", by_grade)"
      ]
    },
    {
      "cell_type": "markdown",
      "metadata": {},
      "source": [
        "### But now we don't have the other associated information with each grade.\n",
        "\n",
        "We want to sort the list while keeping the objects together.\n",
        "\n",
        "Would be nice to be able to do something like this, just like with a `list`:"
      ]
    },
    {
      "cell_type": "code",
      "execution_count": null,
      "metadata": {},
      "outputs": [],
      "source": [
        "by_grade = sorted(my_data)\n",
        "print(by_grade)"
      ]
    },
    {
      "cell_type": "markdown",
      "metadata": {},
      "source": [
        "but we can't"
      ]
    },
    {
      "cell_type": "markdown",
      "metadata": {},
      "source": [
        "### Sorting Objects\n",
        "\n",
        "For lists of objects we have to tell python which values to compare to determine their order.\n",
        "\n",
        "We do this by defining a key function.\n",
        "\n",
        "Key functions receive one argument, that can be an object, a list, a class member, anything... and they return one numerical value.\n",
        "\n",
        "<img src=\"./imgs/list-of-objects.jpg\" width=\"620px\" />"
      ]
    },
    {
      "cell_type": "code",
      "execution_count": null,
      "metadata": {},
      "outputs": [],
      "source": [
        "# this key function receives a student-info object with {height, grade, zip, etc}\n",
        "# and should return just the average grade value\n",
        "def gradeKey(person):\n",
        "  return person[\"avg\"]\n",
        "\n",
        "# then we can just use it when we call sorted()\n",
        "by_grade = sorted(my_data, key=gradeKey)\n",
        "\n",
        "by_grade"
      ]
    },
    {
      "cell_type": "code",
      "execution_count": null,
      "metadata": {},
      "outputs": [],
      "source": [
        "# TODO: sort by first assignment grade"
      ]
    },
    {
      "cell_type": "markdown",
      "metadata": {},
      "source": [
        "### `min()`/`max()` functions also work with a `key` argument:"
      ]
    },
    {
      "cell_type": "code",
      "execution_count": null,
      "metadata": {},
      "outputs": [],
      "source": [
        "# student with highest average grade\n",
        "max_by_grade = max(my_data, key=gradeKey)\n",
        "\n",
        "# student with lowest score on first assignment\n",
        "min_by_hw01 = min(my_data, key=gradeKey)\n",
        "\n",
        "print(max_by_grade)\n",
        "print(min_by_hw01)"
      ]
    },
    {
      "cell_type": "markdown",
      "metadata": {},
      "source": [
        "## Bigger Lists"
      ]
    },
    {
      "cell_type": "markdown",
      "metadata": {},
      "source": [
        "## Setup\n",
        "\n",
        "Include some helper functions and libraries"
      ]
    },
    {
      "cell_type": "code",
      "execution_count": null,
      "metadata": {},
      "outputs": [],
      "source": [
        "!wget -q https://github.com/PSAM-5020-2025F-A/5020-utils/raw/main/src/data_utils.py"
      ]
    },
    {
      "cell_type": "code",
      "execution_count": null,
      "metadata": {},
      "outputs": [],
      "source": [
        "import matplotlib.pyplot as plt\n",
        "\n",
        "from data_utils import object_from_json_url"
      ]
    },
    {
      "cell_type": "markdown",
      "metadata": {},
      "source": [
        "### Load ANSUR 2 Dataset\n",
        "\n",
        "The `JSON` file has a subset of the measurements found [here](https://www.openlab.psu.edu/ansur2/)."
      ]
    },
    {
      "cell_type": "code",
      "execution_count": null,
      "metadata": {},
      "outputs": [],
      "source": [
        "ANSUR_JSON_URL = \"https://raw.githubusercontent.com/PSAM-5020-2025F-A/5020-utils/main/datasets/json/ansur.json\"\n",
        "ansur = object_from_json_url(ANSUR_JSON_URL)\n",
        "\n",
        "# TODO: look at the data\n",
        "\n",
        "# Answer:\n",
        "#   - how many rows/records/items ?\n",
        "#   - tallest height ?\n",
        "#   - longest ear ?\n",
        "#   - average ear length ?"
      ]
    },
    {
      "cell_type": "markdown",
      "metadata": {},
      "source": [
        "### Let's look at a simpler version:"
      ]
    },
    {
      "cell_type": "code",
      "execution_count": null,
      "metadata": {},
      "outputs": [],
      "source": [
        "AHW_LIST_URL = \"https://raw.githubusercontent.com/PSAM-5020-2025F-A/5020-utils/main/datasets/json/ansur_age_height_weight.json\"\n",
        "ahws = object_from_json_url(AHW_LIST_URL)\n",
        "\n",
        "# TODO: look at data\n",
        "# How is it organized ?\n",
        "\n",
        "# Answer the following:\n",
        "#   - how many items ?\n",
        "#   - how do we access the height of a person ?"
      ]
    },
    {
      "cell_type": "markdown",
      "metadata": {},
      "source": [
        "## List of Lists\n",
        "\n",
        "Just like we can put lists inside objects, and objects inside lists, we can also put lists inside lists.\n",
        "\n",
        "If we want to get to a particular value we have to use $2$ indices instead of using just one:\n",
        "`list[i][j]`\n",
        "\n",
        "The first index tells Python which of the sub-lists we want, and the second specifies the item on that list.\n",
        "\n",
        "<img src=\"./imgs/list-of-lists00.jpg\" width=\"700px\" />\n",
        "\n",
        "<img src=\"./imgs/list-of-lists01.jpg\" width=\"700px\" />\n",
        "\n",
        "Sometimes we'll refer to the first index as the row index and the second index as the column index.\n",
        "\n",
        "That's because if we imagine our list of lists as a 2-dimensional matrix of numbers, the first index tells Python which row we want to access and the second tells which column:\n",
        "\n",
        "<img src=\"./imgs/list-of-lists02.jpg\" width=\"700px\" />\n",
        "\n",
        "<img src=\"./imgs/list-of-lists03.jpg\" width=\"700px\" />"
      ]
    },
    {
      "cell_type": "markdown",
      "metadata": {},
      "source": [
        "### Datasets\n",
        "\n",
        "We'll see this kind of structure a lot.\n",
        "\n",
        "It's very common for datasets to be organized by rows/columns, where each column specifies a different *property* (or *feature*) and each row is a different *measurement* (or *record*) of those features.\n",
        "\n",
        "In our example above, our dataset had $3$ *features* (age, height, weight), and one *record* per person.\n",
        "\n",
        "<img src=\"./imgs/datasets00.jpg\" width=\"700px\" />"
      ]
    },
    {
      "cell_type": "markdown",
      "metadata": {},
      "source": [
        "### JSON\n",
        "\n",
        "It's also common to find datasets specified in the JSON format.\n",
        "\n",
        "Instead of just being a list of lists with values, each *record* is an object that specifies the names and values of its *features*:\n",
        "\n",
        "<img src=\"./imgs/datasets01.jpg\" width=\"700px\" />\n",
        "\n",
        "There are advantages and disadvantages to each. We'll soon look at another way to organize datasets that will make it easier to go from one type to the other if we have to."
      ]
    },
    {
      "cell_type": "markdown",
      "metadata": {},
      "source": [
        "## Plots\n",
        "\n",
        "We can use the [matplot](https://matplotlib.org/stable/api/pyplot_summary.html) library to visualize our data."
      ]
    },
    {
      "cell_type": "code",
      "execution_count": null,
      "metadata": {},
      "outputs": [],
      "source": [
        "# TODO: get heights\n",
        "heights = []\n",
        "\n",
        "plt.plot(heights, 'bo', markersize=2)\n",
        "plt.show()"
      ]
    },
    {
      "cell_type": "code",
      "execution_count": null,
      "metadata": {},
      "outputs": [],
      "source": [
        "# TODO: get weights\n",
        "weights = []\n",
        "\n",
        "plt.plot(weights, 'ro', markersize=2)\n",
        "plt.show()"
      ]
    },
    {
      "cell_type": "code",
      "execution_count": null,
      "metadata": {},
      "outputs": [],
      "source": [
        "# TODO: plot ages in green\n",
        "ages = []"
      ]
    },
    {
      "cell_type": "markdown",
      "metadata": {},
      "source": [
        "### Sorting data can give a different perspective"
      ]
    },
    {
      "cell_type": "code",
      "execution_count": null,
      "metadata": {},
      "outputs": [],
      "source": [
        "sorted_heights = sorted(heights)\n",
        "plt.plot(sorted_heights, 'bo', markersize=2)\n",
        "plt.show()"
      ]
    },
    {
      "cell_type": "markdown",
      "metadata": {},
      "source": [
        "### Histograms"
      ]
    },
    {
      "cell_type": "code",
      "execution_count": null,
      "metadata": {},
      "outputs": [],
      "source": [
        "min_height = min(heights)\n",
        "max_height = max(heights)\n",
        "plt.hist(heights, bins=range(min_height, max_height + 1))\n",
        "plt.grid()\n",
        "plt.show()"
      ]
    },
    {
      "cell_type": "markdown",
      "metadata": {},
      "source": [
        "## Correlation\n",
        "\n",
        "Measurement of how $2$ independent variables (features) are related to each other.\n",
        "\n",
        "<img src=\"./imgs/correlation.jpg\" width=\"800px\" />\n",
        "\n",
        "They can have *positive* or *direct* correlation, if an increase in one of the variables comes with an increase in the other.\n",
        "\n",
        "They can have *negative* or *inverse* correlation if an increase in one of the variables is accompanied by a decrease in the other.\n",
        "\n",
        "Or, there can be *weak* or *NO* correlation, if a change in one variable doesn't seem to be accompanied by a change in the other."
      ]
    },
    {
      "cell_type": "code",
      "execution_count": null,
      "metadata": {},
      "outputs": [],
      "source": [
        "# use \"column\" lists from above to plot scatter plot\n",
        "plt.scatter(ages, heights, marker='o', alpha=0.2)\n",
        "plt.xlabel(\"age\")\n",
        "plt.ylabel(\"height\")\n",
        "plt.show()"
      ]
    },
    {
      "cell_type": "code",
      "execution_count": null,
      "metadata": {},
      "outputs": [],
      "source": [
        "# TODO plot other combinations of variables\n",
        "# TODO: any correlation ?"
      ]
    },
    {
      "cell_type": "markdown",
      "metadata": {},
      "source": [
        "## Extra Practice\n",
        "\n",
        "### Traversing a list of objects/dictionaries\n",
        "\n",
        "This next cell creates a list of $1000$ objects with the following keys/parameters:\n",
        "\n",
        "```py\n",
        "{\n",
        "  \"id\": \"abc1234\",\n",
        "  \"zip\": 10001,\n",
        "  \"grades\": [70, 81, 92, 84, 89],\n",
        "  \"attendance\": [True, False, True, ....]\n",
        "}\n",
        "```\n",
        "\n",
        "The `id` field is a string made up of $3$ letters and $4$ numbers; `zip` is a NYC area zip code; `grades` is a list of $5$ grades between $0$ and $100$; and `attendance` is a list of `15` boolean values."
      ]
    },
    {
      "cell_type": "code",
      "execution_count": null,
      "metadata": {},
      "outputs": [],
      "source": [
        "import random\n",
        "import string\n",
        "\n",
        "from matplotlib import pyplot as plt"
      ]
    },
    {
      "cell_type": "code",
      "execution_count": null,
      "metadata": {},
      "outputs": [],
      "source": [
        "data = []\n",
        "\n",
        "for cnt in range(1000):\n",
        "  id_let = random.choices(string.ascii_lowercase, k=3)\n",
        "  id_num = random.choices(string.digits, k=4)\n",
        "  id_str = \"\".join(id_let + id_num)\n",
        "  data.append({\n",
        "    \"id\": id_str,\n",
        "    \"zip\": random.randint(10001, 11250),\n",
        "    \"grades\": [random.gauss(80, 5) for g in range(5)],\n",
        "    \"attendance\": random.choices([True, True, True, True, True, False], k=15)\n",
        "  })"
      ]
    },
    {
      "cell_type": "markdown",
      "metadata": {},
      "source": [
        "We can check the length of the list, the contents of its first item, and its keys, with:"
      ]
    },
    {
      "cell_type": "code",
      "execution_count": null,
      "metadata": {},
      "outputs": [],
      "source": [
        "display(len(data))\n",
        "display(data[0])\n",
        "display(data[0].keys())"
      ]
    },
    {
      "cell_type": "markdown",
      "metadata": {},
      "source": [
        "### Plot: Grade vs Attendance\n",
        "\n",
        "Let's see if someone's attendance has an effect on their grade.\n",
        "\n",
        "We'll want to eventually plot average grade vs average attendance, but let's start simple.\n",
        "\n",
        "Let's plot all of the students's first assignment grade, versus their first attendance.\n",
        "\n",
        "We have to go through the list of objects/dicts and extract the first assignment grade and first attendance into separate lists of grades and attendances."
      ]
    },
    {
      "cell_type": "code",
      "execution_count": null,
      "metadata": {},
      "outputs": [],
      "source": [
        "grades_0 = []\n",
        "attendances_0 = []\n",
        "\n",
        "for d in data:\n",
        "  # TODO: append first grade to list\n",
        "  # TODO: append first attendance to list\n",
        "\n",
        "plt.plot(attendances_0, grades_0, 'o')\n",
        "plt.show()"
      ]
    },
    {
      "cell_type": "markdown",
      "metadata": {},
      "source": [
        "### Plot: Grade vs Attendance\n",
        "\n",
        "Now let's plot average grade versus average attendance.\n",
        "\n",
        "The logic is the same, but instead of just appending the first grade/attendance, we'll push average grade and attendance values."
      ]
    },
    {
      "cell_type": "code",
      "execution_count": null,
      "metadata": {},
      "outputs": [],
      "source": [
        "grades_avg = []\n",
        "attendances_avg = []\n",
        "\n",
        "for d in data:\n",
        "  # TODO: append average grade to list\n",
        "  # TODO: append average attendance to list\n",
        "\n",
        "plt.plot(attendances_avg, grades_avg, 'o')\n",
        "plt.show()\n",
        "\n",
        "plt.hist(attendances_avg, bins=8)\n",
        "plt.show()"
      ]
    }
  ],
  "metadata": {
    "colab": {
      "authorship_tag": "ABX9TyMhuytAcbldogywX05phpmj",
      "provenance": []
    },
    "kernelspec": {
      "display_name": "Python 3",
      "name": "python3"
    },
    "language_info": {
      "codemirror_mode": {
        "name": "ipython",
        "version": 3
      },
      "file_extension": ".py",
      "mimetype": "text/x-python",
      "name": "python",
      "nbconvert_exporter": "python",
      "pygments_lexer": "ipython3",
      "version": "3.10.15"
    }
  },
  "nbformat": 4,
  "nbformat_minor": 0
}
